{
  "nbformat": 4,
  "nbformat_minor": 0,
  "metadata": {
    "colab": {
      "provenance": []
    },
    "kernelspec": {
      "name": "python3",
      "display_name": "Python 3"
    },
    "language_info": {
      "name": "python"
    }
  },
  "cells": [
    {
      "cell_type": "code",
      "source": [
        "# Step 1: Install Necessary Libraries\n",
        "# You can install the required libraries using pip if you don't have them installed already.\n",
        "# pip install scikit-learn\n",
        "\n",
        "# Step 2: Import Required Libraries\n",
        "from sklearn.model_selection import train_test_split\n",
        "from sklearn.datasets import load_iris\n",
        "\n",
        "# Step 3: Load the Iris Dataset\n",
        "iris = load_iris()\n",
        "X = iris.data  # Features\n",
        "y = iris.target  # Labels\n",
        "\n",
        "# Step 4: Split the Dataset\n",
        "# Split the data into 80% training and 20% testing\n",
        "X_train, X_test, y_train, y_test = train_test_split(X, y, test_size=0.2, random_state=42)\n",
        "\n",
        "# Step 5: Print the Number of Samples in Training and Testing Sets\n",
        "print(\"Number of samples in the training set:\", len(X_train))\n",
        "print(\"Number of samples in the testing set:\", len(X_test))\n"
      ],
      "metadata": {
        "colab": {
          "base_uri": "https://localhost:8080/"
        },
        "id": "xPrkaj1ETpfG",
        "outputId": "ff429ecc-6735-47a8-afe4-fa0fdebb2c8a"
      },
      "execution_count": 2,
      "outputs": [
        {
          "output_type": "stream",
          "name": "stdout",
          "text": [
            "Number of samples in the training set: 120\n",
            "Number of samples in the testing set: 30\n"
          ]
        }
      ]
    }
  ]
}