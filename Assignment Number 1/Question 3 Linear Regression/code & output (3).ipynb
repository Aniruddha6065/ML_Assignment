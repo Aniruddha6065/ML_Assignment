{
  "nbformat": 4,
  "nbformat_minor": 0,
  "metadata": {
    "colab": {
      "provenance": []
    },
    "kernelspec": {
      "name": "python3",
      "display_name": "Python 3"
    },
    "language_info": {
      "name": "python"
    }
  },
  "cells": [
    {
      "cell_type": "code",
      "source": [
        "import pandas as pd\n",
        "from sklearn.linear_model import LinearRegression\n",
        "from sklearn.metrics import mean_squared_error\n",
        "# Load the dataset from a CSV file\n",
        "data = pd.read_csv('salary_data.csv')\n",
        "# Features and target variable\n",
        "X = data[['Experience']] # Feature: Years of Experience\n",
        "y = data['Salary'] # Target: Salary\n",
        "# Create and train the model\n",
        "model = LinearRegression()\n",
        "model.fit(X, y)\n",
        "# Take user input for prediction\n",
        "user_experience = float(input(\"Enter years of experience: \"))\n",
        "# Predict salary for the user input\n",
        "predicted_salary = model.predict([[user_experience]])[0]\n",
        "print(f'Predicted Salary for {user_experience} years of experience: ${predicted_salary:.2f}')\n",
        "\n",
        "# Calculate the Mean Squared Error (MSE)\n",
        "y_pred = model.predict(X_test)\n",
        "mse = mean_squared_error(y_test, y_pred)\n",
        "print(f'Mean Squared Error: {mse}')"
      ],
      "metadata": {
        "id": "GI5URVirjZ9V",
        "colab": {
          "base_uri": "https://localhost:8080/"
        },
        "outputId": "2ea208be-9cb5-47d1-ea0b-2b1749ab4cad"
      },
      "execution_count": 15,
      "outputs": [
        {
          "output_type": "stream",
          "name": "stdout",
          "text": [
            "Enter years of experience: 10\n",
            "Predicted Salary for 10.0 years of experience: $120291.82\n",
            "Mean Squared Error: 46452879.754848026\n"
          ]
        },
        {
          "output_type": "stream",
          "name": "stderr",
          "text": [
            "/usr/local/lib/python3.10/dist-packages/sklearn/base.py:465: UserWarning: X does not have valid feature names, but LinearRegression was fitted with feature names\n",
            "  warnings.warn(\n"
          ]
        }
      ]
    }
  ]
}