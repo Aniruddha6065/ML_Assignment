{
  "nbformat": 4,
  "nbformat_minor": 0,
  "metadata": {
    "colab": {
      "provenance": []
    },
    "kernelspec": {
      "name": "python3",
      "display_name": "Python 3"
    },
    "language_info": {
      "name": "python"
    }
  },
  "cells": [
    {
      "cell_type": "code",
      "source": [
        "# Step 1: Install Necessary Libraries\n",
        "# Run in your terminal or command prompt: pip install numpy pandas scikit-learn\n",
        "\n",
        "# Step 2: Import the Required Libraries\n",
        "import numpy as np\n",
        "import pandas as pd\n",
        "from sklearn.datasets import load_iris\n",
        "\n",
        "# Step 3: Load the Iris Dataset\n",
        "# The load_iris function loads the dataset into a Bunch object, similar to a dictionary.\n",
        "iris = load_iris()\n",
        "\n",
        "# Step 4: Convert the Dataset to a DataFrame\n",
        "# Convert the dataset into a pandas DataFrame for easier data manipulation and analysis.\n",
        "df = pd.DataFrame(data=iris.data, columns=iris.feature_names)\n",
        "\n",
        "# Step 5: Display the First Five Rows of the Dataset\n",
        "# Use the head() function to display the first five rows, providing a quick view of the data.\n",
        "print(\"First five rows of the dataset:\")\n",
        "print(df.head())\n",
        "\n",
        "# Step 6: Display the Shape of the Dataset\n",
        "# The shape attribute returns the number of rows and columns in the dataset.\n",
        "print(\"\\nShape of the dataset (rows, columns):\")\n",
        "print(df.shape)\n",
        "\n",
        "# Step 7: Calculate and Display Summary Statistics\n",
        "# The describe() function provides summary statistics including mean, std, min, and max for each feature.\n",
        "print(\"\\nSummary statistics for each feature:\")\n",
        "print(df.describe())\n"
      ],
      "metadata": {
        "id": "G1Wgw1Ipbynn",
        "outputId": "19d9880b-1c06-4a2c-9d23-8c3ff2d3cf47",
        "colab": {
          "base_uri": "https://localhost:8080/"
        }
      },
      "execution_count": null,
      "outputs": [
        {
          "output_type": "stream",
          "name": "stdout",
          "text": [
            "First five rows of the dataset:\n",
            "   sepal length (cm)  sepal width (cm)  petal length (cm)  petal width (cm)\n",
            "0                5.1               3.5                1.4               0.2\n",
            "1                4.9               3.0                1.4               0.2\n",
            "2                4.7               3.2                1.3               0.2\n",
            "3                4.6               3.1                1.5               0.2\n",
            "4                5.0               3.6                1.4               0.2\n",
            "\n",
            "Shape of the dataset (rows, columns):\n",
            "(150, 4)\n",
            "\n",
            "Summary statistics for each feature:\n",
            "       sepal length (cm)  sepal width (cm)  petal length (cm)  \\\n",
            "count         150.000000        150.000000         150.000000   \n",
            "mean            5.843333          3.057333           3.758000   \n",
            "std             0.828066          0.435866           1.765298   \n",
            "min             4.300000          2.000000           1.000000   \n",
            "25%             5.100000          2.800000           1.600000   \n",
            "50%             5.800000          3.000000           4.350000   \n",
            "75%             6.400000          3.300000           5.100000   \n",
            "max             7.900000          4.400000           6.900000   \n",
            "\n",
            "       petal width (cm)  \n",
            "count        150.000000  \n",
            "mean           1.199333  \n",
            "std            0.762238  \n",
            "min            0.100000  \n",
            "25%            0.300000  \n",
            "50%            1.300000  \n",
            "75%            1.800000  \n",
            "max            2.500000  \n"
          ]
        }
      ]
    }
  ]
}