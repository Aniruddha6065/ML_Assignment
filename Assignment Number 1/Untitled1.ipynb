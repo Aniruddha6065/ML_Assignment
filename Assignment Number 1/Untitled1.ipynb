{
  "nbformat": 4,
  "nbformat_minor": 0,
  "metadata": {
    "colab": {
      "provenance": []
    },
    "kernelspec": {
      "name": "python3",
      "display_name": "Python 3"
    },
    "language_info": {
      "name": "python"
    }
  },
  "cells": [
    {
      "cell_type": "code",
      "source": [
        "import pandas as pd\n",
        "from sklearn.datasets import load_iris\n",
        "\n",
        "# Load the Iris dataset\n",
        "iris = load_iris()\n",
        "\n",
        "# Convert data to Pandas DataFrame for better readability\n",
        "iris_df = pd.DataFrame(iris.data, columns=iris.feature_names)\n",
        "\n",
        "# Display the first five rows\n",
        "print(\"First five rows:\")\n",
        "print(iris_df.head())\n",
        "\n",
        "# Print the dataset's shape\n",
        "print(\"\\nDataset shape:\")\n",
        "print(iris_df.shape)\n",
        "\n",
        "# Print summary statistics for each feature\n",
        "print(\"\\nSummary statistics:\")\n",
        "print(iris_df.describe())"
      ],
      "metadata": {
        "colab": {
          "base_uri": "https://localhost:8080/"
        },
        "id": "GfDyuUmPL4vM",
        "outputId": "c7ddca50-4f53-4691-ee8a-330cb8e44370"
      },
      "execution_count": 9,
      "outputs": [
        {
          "output_type": "stream",
          "name": "stdout",
          "text": [
            "First five rows:\n",
            "   sepal length (cm)  sepal width (cm)  petal length (cm)  petal width (cm)\n",
            "0                5.1               3.5                1.4               0.2\n",
            "1                4.9               3.0                1.4               0.2\n",
            "2                4.7               3.2                1.3               0.2\n",
            "3                4.6               3.1                1.5               0.2\n",
            "4                5.0               3.6                1.4               0.2\n",
            "\n",
            "Dataset shape:\n",
            "(150, 4)\n",
            "\n",
            "Summary statistics:\n",
            "       sepal length (cm)  sepal width (cm)  petal length (cm)  \\\n",
            "count         150.000000        150.000000         150.000000   \n",
            "mean            5.843333          3.057333           3.758000   \n",
            "std             0.828066          0.435866           1.765298   \n",
            "min             4.300000          2.000000           1.000000   \n",
            "25%             5.100000          2.800000           1.600000   \n",
            "50%             5.800000          3.000000           4.350000   \n",
            "75%             6.400000          3.300000           5.100000   \n",
            "max             7.900000          4.400000           6.900000   \n",
            "\n",
            "       petal width (cm)  \n",
            "count        150.000000  \n",
            "mean           1.199333  \n",
            "std            0.762238  \n",
            "min            0.100000  \n",
            "25%            0.300000  \n",
            "50%            1.300000  \n",
            "75%            1.800000  \n",
            "max            2.500000  \n"
          ]
        }
      ]
    },
    {
      "cell_type": "code",
      "source": [
        "# Importing necessary libraries\n",
        "from sklearn.datasets import load_iris\n",
        "import pandas as pd\n",
        "import numpy as np\n",
        "\n",
        "# Load the Iris dataset\n",
        "iris = load_iris()\n",
        "\n",
        "# Create a DataFrame from the Iris dataset\n",
        "iris_df = pd.DataFrame(data=iris.data, columns=iris.feature_names)\n",
        "\n",
        "# Display the first five rows of the dataset\n",
        "print(\"First five rows of the Iris dataset:\")\n",
        "print(iris_df.head())\n",
        "\n",
        "# Display the shape of the dataset\n",
        "print(\"\\nShape of the dataset:\")\n",
        "print(iris_df.shape)\n",
        "\n",
        "# Calculate summary statistics (mean, std, min, max) for each feature\n",
        "summary_stats = iris_df.describe().T[['mean', 'std', 'min', 'max']]\n",
        "\n",
        "print(\"\\nSummary statistics (mean, std, min, max) for each feature:\")\n",
        "print(summary_stats)"
      ],
      "metadata": {
        "colab": {
          "base_uri": "https://localhost:8080/"
        },
        "id": "auU2nw7HjzFc",
        "outputId": "21e42e07-c357-4f08-fe9e-30dadb61680a"
      },
      "execution_count": 10,
      "outputs": [
        {
          "output_type": "stream",
          "name": "stdout",
          "text": [
            "First five rows of the Iris dataset:\n",
            "   sepal length (cm)  sepal width (cm)  petal length (cm)  petal width (cm)\n",
            "0                5.1               3.5                1.4               0.2\n",
            "1                4.9               3.0                1.4               0.2\n",
            "2                4.7               3.2                1.3               0.2\n",
            "3                4.6               3.1                1.5               0.2\n",
            "4                5.0               3.6                1.4               0.2\n",
            "\n",
            "Shape of the dataset:\n",
            "(150, 4)\n",
            "\n",
            "Summary statistics (mean, std, min, max) for each feature:\n",
            "                       mean       std  min  max\n",
            "sepal length (cm)  5.843333  0.828066  4.3  7.9\n",
            "sepal width (cm)   3.057333  0.435866  2.0  4.4\n",
            "petal length (cm)  3.758000  1.765298  1.0  6.9\n",
            "petal width (cm)   1.199333  0.762238  0.1  2.5\n"
          ]
        }
      ]
    }
  ]
}